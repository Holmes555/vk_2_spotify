{
 "cells": [
  {
   "cell_type": "code",
   "execution_count": null,
   "metadata": {},
   "outputs": [],
   "source": [
    "import os\n",
    "from itertools import islice\n",
    "from pprint import pprint\n",
    "\n",
    "import vk_api\n",
    "from vk_api.audio import VkAudio\n",
    "\n",
    "import spotipy\n",
    "from spotipy.oauth2 import SpotifyClientCredentials, SpotifyOAuth"
   ]
  },
  {
   "cell_type": "markdown",
   "metadata": {},
   "source": [
    "### VK credentials\n",
    "Set your login and password for VK through environment variables `VK_ACCOUNT_LOGIN` and `VK_ACCOUNT_PASSWORD` accordingly before running jupyter notebook. Alternatively set them in the next cell manually. "
   ]
  },
  {
   "cell_type": "code",
   "execution_count": null,
   "metadata": {},
   "outputs": [],
   "source": [
    "ACCOUNT_LOGIN = os.getenv('VK_ACCOUNT_LOGIN')\n",
    "ACCOUNT_PASSWORD = os.getenv('VK_ACCOUNT_PASSWORD')"
   ]
  },
  {
   "cell_type": "code",
   "execution_count": null,
   "metadata": {},
   "outputs": [],
   "source": [
    "vk_session = vk_api.VkApi(ACCOUNT_LOGIN, ACCOUNT_PASSWORD)\n",
    "vk_session.auth()\n",
    "vk_audio = VkAudio(vk_session)\n",
    "vk_tracks = vk_audio.get_iter()"
   ]
  },
  {
   "cell_type": "code",
   "execution_count": null,
   "metadata": {},
   "outputs": [],
   "source": [
    "vk_tracks_list = list(vk_tracks)"
   ]
  },
  {
   "cell_type": "markdown",
   "metadata": {},
   "source": [
    "### Spotify credentials\n",
    "Go to the https://developer.spotify.com/dashboard/ and create App. Get the `Client ID` and `Client Secret`, then set `Redirect URIs` as your `APP_REDIRECT_URI` - it could be just http://localhost:8000. `APP_SCOPE` is used to grant permissions to your App."
   ]
  },
  {
   "cell_type": "code",
   "execution_count": null,
   "metadata": {},
   "outputs": [],
   "source": [
    "APP_CLIENT_ID = 'your-app-client-id'\n",
    "APP_CLIENT_SECRET = 'your-app-client-secret'\n",
    "APP_REDIRECT_URI = 'http://localhost:8000'\n",
    "APP_SCOPE = 'user-read-currently-playing, user-read-private, playlist-modify-private, playlist-read-private, user-library-read'"
   ]
  },
  {
   "cell_type": "code",
   "execution_count": null,
   "metadata": {},
   "outputs": [],
   "source": [
    "sp = spotipy.Spotify(\n",
    "    auth_manager=SpotifyOAuth(\n",
    "        client_id=APP_CLIENT_ID,\n",
    "        client_secret=APP_CLIENT_SECRET,\n",
    "        redirect_uri=APP_REDIRECT_URI,\n",
    "        scope=APP_SCOPE\n",
    "    )\n",
    ")"
   ]
  },
  {
   "cell_type": "markdown",
   "metadata": {},
   "source": [
    "#### Your saved albums"
   ]
  },
  {
   "cell_type": "code",
   "execution_count": null,
   "metadata": {},
   "outputs": [],
   "source": [
    "result = sp.current_user_saved_albums()\n",
    "for idx, item in enumerate(result['items']):\n",
    "    album = item['album']\n",
    "    print(idx, f'{album[\"artists\"][0][\"name\"]} – {album[\"name\"]}')"
   ]
  },
  {
   "cell_type": "markdown",
   "metadata": {},
   "source": [
    "#### Your saved playlists"
   ]
  },
  {
   "cell_type": "code",
   "execution_count": null,
   "metadata": {},
   "outputs": [],
   "source": [
    "result = sp.current_user_playlists()\n",
    "for idx, item in enumerate(result['items']):\n",
    "    print(\n",
    "        idx, \n",
    "        (\n",
    "            f'{item[\"name\"]} '\n",
    "            f'– owner: {item[\"owner\"][\"display_name\"]} '\n",
    "            f'– id: {item[\"id\"]} '\n",
    "            f'– total tracks: {item[\"tracks\"][\"total\"]}'\n",
    "        )\n",
    "    )"
   ]
  },
  {
   "cell_type": "markdown",
   "metadata": {},
   "source": [
    "### Transfer VK music to Spotify\n",
    "Try to find exact track on Spotify. Check the title and the artist in lowercase."
   ]
  },
  {
   "cell_type": "code",
   "execution_count": null,
   "metadata": {},
   "outputs": [],
   "source": [
    "not_found_tracks = []\n",
    "spotify_tracks = []\n",
    "\n",
    "for vk_track in vk_tracks_list:\n",
    "    spotify_track = None\n",
    "    try:\n",
    "        tracks_found = sp.search(q=f\"{vk_track['title']}  {vk_track['artist']}\")\n",
    "        for item in tracks_found['tracks']['items']:\n",
    "            if (\n",
    "                str.lower(item['name']) == str.lower(vk_track['title']) \n",
    "                and str.lower(item['artists'][0]['name']) == str.lower(vk_track['artist'])\n",
    "            ):\n",
    "                spotify_track = {\n",
    "                    'id': item['id'],\n",
    "                    'name': item['name'],\n",
    "                    'artist': item['artists'][0]['name'],\n",
    "                    'album': item['album']['name']\n",
    "                } \n",
    "                break\n",
    "    except Exception as e:\n",
    "        print(e)\n",
    "    if spotify_track is None:\n",
    "        not_found_tracks.append({'title': vk_track['title'], 'artist': vk_track['artist']})\n",
    "    else:\n",
    "        spotify_tracks.append(spotify_track)"
   ]
  },
  {
   "cell_type": "code",
   "execution_count": null,
   "metadata": {},
   "outputs": [],
   "source": [
    "print(f'Total found tracks on VK: {len(vk_tracks_list)}\\n\\nNot found tracks from VK: {len(not_found_tracks)}\\n')\n",
    "pprint(not_found_tracks)\n",
    "print(f'\\nFound track on Spotify: {len(spotify_tracks)}\\n')\n",
    "pprint(spotify_tracks)"
   ]
  },
  {
   "cell_type": "code",
   "execution_count": null,
   "metadata": {},
   "outputs": [],
   "source": [
    "def batched(iterable, batch_size):\n",
    "    \"\"\" Split iterable by batches\n",
    "    >>> list(batched(range(10), batch_size=3))\n",
    "    [[0, 1, 2], [3, 4, 5], [6, 7, 8], [9]]\n",
    "    \"\"\"\n",
    "    iterator = iter(iterable)\n",
    "    while True:\n",
    "        objects = list(islice(iterator, batch_size))\n",
    "        if not objects:\n",
    "            break\n",
    "        yield objects"
   ]
  },
  {
   "cell_type": "markdown",
   "metadata": {},
   "source": [
    "### Add found track to your playlist on Spotify\n",
    "Create a new playlist for your VK music or use already existed one. Just get the id from `Your saved playlists` cell and set it to `VK_PLAYLIST` variable."
   ]
  },
  {
   "cell_type": "code",
   "execution_count": null,
   "metadata": {},
   "outputs": [],
   "source": [
    "VK_PLAYLIST = 'your-playlist-id'\n",
    "\n",
    "for batch in batched([track['id'] for track in spotify_tracks], 100):\n",
    "    result = sp.playlist_add_items(VK_PLAYLIST, batch)"
   ]
  }
 ],
 "metadata": {
  "kernelspec": {
   "display_name": "Python 3",
   "language": "python",
   "name": "python3"
  },
  "language_info": {
   "codemirror_mode": {
    "name": "ipython",
    "version": 3
   },
   "file_extension": ".py",
   "mimetype": "text/x-python",
   "name": "python",
   "nbconvert_exporter": "python",
   "pygments_lexer": "ipython3",
   "version": "3.8.1"
  },
  "pycharm": {
   "stem_cell": {
    "cell_type": "raw",
    "source": [],
    "metadata": {
     "collapsed": false
    }
   }
  }
 },
 "nbformat": 4,
 "nbformat_minor": 4
}